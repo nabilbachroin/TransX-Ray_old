{
 "cells": [
  {
   "cell_type": "code",
   "execution_count": 3,
   "id": "6983a43b-2fd7-4108-8cc1-489974ade0b3",
   "metadata": {},
   "outputs": [
    {
     "name": "stderr",
     "output_type": "stream",
     "text": [
      "100%|█████████████████████████████████████████████| 5606/5606 [24:48<00:00,  3.77it/s]\n"
     ]
    }
   ],
   "source": [
    "import os \n",
    "import tqdm\n",
    "\n",
    "import matplotlib.pyplot as plt\n",
    "from skimage import io\n",
    "from skimage.filters import gaussian\n",
    "from skimage import exposure\n",
    "from tensorflow import keras\n",
    "from PIL import Image\n",
    "from keras_preprocessing.image import save_img\n",
    "from keras_preprocessing.image import img_to_array\n",
    "\n",
    "\n",
    "entries = os.listdir('/home/cries/Dataset/X-Ray/original/images/')\n",
    "path =\"/home/cries/Dataset/X-Ray/original/images/\"\n",
    "new_path = \"/home/cries/Dataset/X-Ray/enchanced/\"\n",
    "\n",
    "dataset = []\n",
    "\n",
    "for entry in tqdm.tqdm(entries):\n",
    "    chest_xray_image = plt.imread(path+entry)\n",
    "    gaussian_image = gaussian(chest_xray_image, channel_axis=-1)\n",
    "    result = exposure.equalize_hist(gaussian_image)\n",
    "    result = img_to_array(result)\n",
    "    \n",
    "    save_img(new_path+entry, result)"
   ]
  },
  {
   "cell_type": "code",
   "execution_count": null,
   "id": "995d2d7f-a4f1-4b34-bfad-59e620b33b45",
   "metadata": {},
   "outputs": [],
   "source": []
  }
 ],
 "metadata": {
  "kernelspec": {
   "display_name": "Nabil_env",
   "language": "python",
   "name": "nabil_env"
  },
  "language_info": {
   "codemirror_mode": {
    "name": "ipython",
    "version": 3
   },
   "file_extension": ".py",
   "mimetype": "text/x-python",
   "name": "python",
   "nbconvert_exporter": "python",
   "pygments_lexer": "ipython3",
   "version": "3.8.13"
  },
  "widgets": {
   "application/vnd.jupyter.widget-state+json": {
    "state": {},
    "version_major": 2,
    "version_minor": 0
   }
  }
 },
 "nbformat": 4,
 "nbformat_minor": 5
}

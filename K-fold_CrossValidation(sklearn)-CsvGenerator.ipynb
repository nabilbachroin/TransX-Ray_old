{
 "cells": [
  {
   "cell_type": "markdown",
   "metadata": {},
   "source": [
    "## =========== Fixed ==========="
   ]
  },
  {
   "cell_type": "code",
   "execution_count": 5,
   "metadata": {
    "notebookRunGroups": {
     "groupValue": ""
    }
   },
   "outputs": [
    {
     "name": "stdout",
     "output_type": "stream",
     "text": [
      "length (train_df_1= 5045)\n",
      "length (test_df_1= 561)\n",
      "Fold 1 Done brother\n",
      "=>\n",
      "length (train_df_2= 5045)\n",
      "length (test_df_2= 561)\n",
      "Fold 2 Done brother\n",
      "=>\n",
      "length (train_df_3= 5045)\n",
      "length (test_df_3= 561)\n",
      "Fold 3 Done brother\n",
      "=>\n",
      "length (train_df_4= 5045)\n",
      "length (test_df_4= 561)\n",
      "Fold 4 Done brother\n",
      "=>\n",
      "length (train_df_5= 5045)\n",
      "length (test_df_5= 561)\n",
      "Fold 5 Done brother\n",
      "=>\n",
      "length (train_df_6= 5045)\n",
      "length (test_df_6= 561)\n",
      "Fold 6 Done brother\n",
      "=>\n",
      "length (train_df_7= 5046)\n",
      "length (test_df_7= 560)\n",
      "Fold 7 Done brother\n",
      "=>\n",
      "length (train_df_8= 5046)\n",
      "length (test_df_8= 560)\n",
      "Fold 8 Done brother\n",
      "=>\n",
      "length (train_df_9= 5046)\n",
      "length (test_df_9= 560)\n",
      "Fold 9 Done brother\n",
      "=>\n",
      "length (train_df_10= 5046)\n",
      "length (test_df_10= 560)\n",
      "Fold 10 Done brother\n",
      "=>\n"
     ]
    }
   ],
   "source": [
    "#Importing required libraries\n",
    "import pandas as pd\n",
    "from sklearn.model_selection import KFold \n",
    "import os\n",
    "\n",
    "#Loading the dataset\n",
    "df = pd.read_csv(\"/home/cries/Dataset/X-Ray/original/classification(labels).csv\")\n",
    "labels = ['No Findings',     'Cardiomegaly', \n",
    "          'Emphysema',      'Effusion', \n",
    "          'Hernia',         'Infiltration', \n",
    "          'Mass',           'Nodule', \n",
    "          'Atelectasis',    'Pneumothorax',\n",
    "          'Pneumonia',      'Pleural_Thickening', \n",
    "          'Fibrosis',       'Edema', \n",
    "          'Consolidation']\n",
    "X = df[labels]\n",
    "y = df['Image Index']\n",
    "\n",
    "#Implementing cross validation\n",
    "k = 10\n",
    "os.makedirs(\"/home/cries/Dataset/X-Ray/DataFrame/\" + str(k) + \"Fold\")\n",
    "\n",
    "n_fold = 0\n",
    "kf = KFold(n_splits=k, shuffle=True, random_state=10)\n",
    "for train_index , test_index in kf.split(X):\n",
    "    X_train , X_test = X.iloc[train_index,:],X.iloc[test_index,:]\n",
    "    y_train , y_test = y[train_index] , y[test_index]\n",
    "    n_fold+=1\n",
    "    train_df = pd.concat([y_train, X_train], axis=1, join=\"inner\")\n",
    "    test_df = pd.concat([y_test, X_test], axis=1, join=\"inner\")\n",
    "    print('length (train_df_' + str(n_fold) + '= ' + str(len(train_df)) + ')' )\n",
    "    print('length (test_df_' + str(n_fold) + '= ' + str(len(test_df)) + ')' )\n",
    "    train_df.to_csv(\"/home/cries/Dataset/X-Ray/DataFrame/\" + str(k) + \"Fold/\" + \"train_Fold\" + str(n_fold) + \".csv\")\n",
    "    test_df.to_csv(\"/home/cries/Dataset/X-Ray/DataFrame/\" + str(k) + \"Fold/\" + \"test_Fold\" + str(n_fold) + \".csv\")\n",
    "    print(\"Fold \" + str(n_fold) + \" Done brother\")\n",
    "    print(\"=>\")"
   ]
  },
  {
   "cell_type": "markdown",
   "metadata": {},
   "source": [
    "## =========== research ==========="
   ]
  },
  {
   "cell_type": "markdown",
   "metadata": {},
   "source": [
    "Percobaan:\n",
    "1. concat untuk train dan test\n",
    "2. Save new file name"
   ]
  },
  {
   "cell_type": "code",
   "execution_count": 2,
   "metadata": {
    "notebookRunGroups": {
     "groupValue": ""
    }
   },
   "outputs": [],
   "source": [
    "# #Importing required libraries\n",
    "# import pandas as pd\n",
    "# from sklearn.model_selection import KFold \n",
    "\n",
    "# #Loading the dataset\n",
    "# df = pd.read_csv(\"/home/cries/Dataset/X-Ray/original/classification(labels).csv\")\n",
    "# labels = ['No Findings',     'Cardiomegaly', \n",
    "#           'Emphysema',      'Effusion', \n",
    "#           'Hernia',         'Infiltration', \n",
    "#           'Mass',           'Nodule', \n",
    "#           'Atelectasis',    'Pneumothorax',\n",
    "#           'Pneumonia',      'Pleural_Thickening', \n",
    "#           'Fibrosis',       'Edema', \n",
    "#           'Consolidation']\n",
    "# X = df[labels]\n",
    "# y = df['Image Index']\n",
    "\n",
    "# #Implementing cross validation\n",
    "# k = 5\n",
    "# n_fold = 0\n",
    "# kf = KFold(n_splits=k, shuffle=True, random_state=10)\n",
    "# for train_index , test_index in kf.split(X):\n",
    "#     # print(X_train)\n",
    "#     # print(y_train)\n",
    "#     X_train , X_test = X.iloc[train_index,:],X.iloc[test_index,:]\n",
    "#     y_train , y_test = y[train_index] , y[test_index]\n",
    "#     n_fold+=1\n",
    "#     print(n_fold)\n",
    "#     train_df = pd.concat([X_train, y_train], axis=1, join='inner')\n",
    "#     test_df = pd.concat([X_test, y_test], axis=1, join='inner')\n",
    "#     # new_df.dropna(inplace=True)\n",
    "#     # print('length (X_train= ' + str(len(X_train)) + ', X_test= ' + str(len(X_test)) + ')' )\n",
    "#     # print('length (y_train= ' + str(len(y_train)) + ', y_test= ' + str(len(y_test)) + ')' )\n",
    "#     # print('length new_df= ' + str(len(new_df)))\n",
    "#     # print(new_df)\n",
    "#     train_df.to_csv(\"/home/cries/Dataset/X-Ray/train_df_Fold\" + str(n_fold) + \".csv\")\n",
    "#     test_df.to_csv(\"/home/cries/Dataset/X-Ray/test_df_Fold\" + str(n_fold) + \".csv\")"
   ]
  },
  {
   "cell_type": "markdown",
   "metadata": {},
   "source": [
    "Percobaan:\n",
    "1. hapus NaN \n",
    "2. join inner dan axis\n",
    "3. cek panjang dataframe sudah sama"
   ]
  },
  {
   "cell_type": "code",
   "execution_count": 3,
   "metadata": {
    "notebookRunGroups": {
     "groupValue": ""
    }
   },
   "outputs": [],
   "source": [
    "# #Importing required libraries\n",
    "# import pandas as pd\n",
    "# from sklearn.model_selection import KFold \n",
    "\n",
    "# #Loading the dataset\n",
    "# df = pd.read_csv(\"/home/cries/Dataset/X-Ray/original/classification(labels).csv\")\n",
    "# labels = ['No Findings',     'Cardiomegaly', \n",
    "#           'Emphysema',      'Effusion', \n",
    "#           'Hernia',         'Infiltration', \n",
    "#           'Mass',           'Nodule', \n",
    "#           'Atelectasis',    'Pneumothorax',\n",
    "#           'Pneumonia',      'Pleural_Thickening', \n",
    "#           'Fibrosis',       'Edema', \n",
    "#           'Consolidation']\n",
    "# X = df[labels]\n",
    "# y = df['Image Index']\n",
    "\n",
    "# #Implementing cross validation\n",
    "# k = 5\n",
    "# n_fold = 0\n",
    "# kf = KFold(n_splits=k, shuffle=True, random_state=10)\n",
    "# for train_index , test_index in kf.split(X):\n",
    "#     # X_train , X_test = X.iloc[train_index,:],X.iloc[test_index,:]\n",
    "#     # y_train , y_test = y[train_index] , y[test_index]\n",
    "#     # n_fold+=1\n",
    "#     # print(n_fold)\n",
    "#     # new_df = pd.concat([new_df, X_train, y_train])\n",
    "#     # new_df.dropna(inplace=True)\n",
    "#     # print('length (X_train= ' + str(len(X_train)) + ', X_test= ' + str(len(X_test)) + ')' )\n",
    "#     # print('length (y_train= ' + str(len(y_train)) + ', y_test= ' + str(len(y_test)) + ')' )\n",
    "#     # print(new_df)\n",
    "\n",
    "#     # print(X_train)\n",
    "#     # print(y_train)\n",
    "#     X_train , X_test = X.iloc[train_index,:],X.iloc[test_index,:]\n",
    "#     y_train , y_test = y[train_index] , y[test_index]\n",
    "#     n_fold+=1\n",
    "#     print(n_fold)\n",
    "#     new_df = pd.concat([X_train, y_train], axis=1, join='inner')\n",
    "#     # new_df.dropna(inplace=True)\n",
    "#     print('length (X_train= ' + str(len(X_train)) + ', X_test= ' + str(len(X_test)) + ')' )\n",
    "#     print('length (y_train= ' + str(len(y_train)) + ', y_test= ' + str(len(y_test)) + ')' )\n",
    "#     print('length new_df= ' + str(len(new_df)))\n",
    "#     # print(new_df)"
   ]
  }
 ],
 "metadata": {
  "kernelspec": {
   "display_name": "Python 3.8.13 ('Nabil_env': conda)",
   "language": "python",
   "name": "python3"
  },
  "language_info": {
   "codemirror_mode": {
    "name": "ipython",
    "version": 3
   },
   "file_extension": ".py",
   "mimetype": "text/x-python",
   "name": "python",
   "nbconvert_exporter": "python",
   "pygments_lexer": "ipython3",
   "version": "3.8.13"
  },
  "vscode": {
   "interpreter": {
    "hash": "9a300984dee6596c0915cb47327bdcd76d8cb06927240ad0f4c9d5ab7886c42d"
   }
  },
  "widgets": {
   "application/vnd.jupyter.widget-state+json": {
    "state": {},
    "version_major": 2,
    "version_minor": 0
   }
  }
 },
 "nbformat": 4,
 "nbformat_minor": 4
}
